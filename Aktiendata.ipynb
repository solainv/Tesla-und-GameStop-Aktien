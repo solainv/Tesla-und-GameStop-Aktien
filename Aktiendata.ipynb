{
 "cells": [
  {
   "cell_type": "markdown",
   "metadata": {},
   "source": [
    "<h1>Extrahieren und visualisieren Aktiendaten </h1>\n",
    "<h2>Beschreibung</h2>\n"
   ]
  },
  {
   "cell_type": "markdown",
   "metadata": {},
   "source": [
    "Die Extraktion entscheidender Daten aus einem Datensatz und deren Darstellung ist ein unverzichtbarer Teil der Data Science. Auf dieser Grundlage können Personen fundierte Entscheidungen auf Basis der Daten treffen. In dieser Aufgabe wirst du einige Aktiendaten extrahieren und diese Daten dann in einem Diagramm anzeigen.\n"
   ]
  },
  {
   "cell_type": "markdown",
   "metadata": {},
   "source": [
    "<h2>Inhaltsverzeichnis</h2>\n",
    "<div class=\"alert alert-block alert-info\" style=\"margin-top: 20px; background:#DDDDDD; color:#000;border-color:transparent\">\n",
    "    <ul>\n",
    "        <li>Eine Funktion definieren, die einen Graphen erstellt</li>\n",
    "        <li>1. Yahoo finance Bibliothek verwenden, um Aktiendaten zu extrahieren</li>\n",
    "        <li>2. Webscraping verwenden, um Tesla-Umsatzdaten zu extrahieren</li>\n",
    "        <li>3. Yahoo finance Bibliothek verwenden, um Aktiendaten zu extrahieren</li>\n",
    "        <li>4. Webscraping verwenden, um GME-Umsatzdaten zu extrahieren</li>\n",
    "        <li>5. Den Tesla-Aktiengraphen plotten</li>\n",
    "        <li>6. Den GameStop-Aktiengraphen plotten</li>\n",
    "    </ul>\n",
    "<p>\n",
    "    \n",
    "</div>\n",
    "\n",
    "<hr>\n"
   ]
  },
  {
   "cell_type": "code",
   "execution_count": 1,
   "metadata": {},
   "outputs": [],
   "source": [
    "import yfinance as yf\n",
    "import pandas as pd\n",
    "import requests\n",
    "from bs4 import BeautifulSoup\n",
    "import plotly.graph_objects as go\n",
    "from plotly.subplots import make_subplots\n",
    "import html5lib"
   ]
  },
  {
   "cell_type": "markdown",
   "metadata": {},
   "source": [
    "## 1. Yahoo finance Bibliothek verwenden, um Aktiendaten zu extrahieren\n"
   ]
  },
  {
   "cell_type": "markdown",
   "metadata": {
    "tags": []
   },
   "source": [
    "Unter Verwendung der Funktion `Ticker` geben Sie das Tickersymbol der Aktie ein, für die wir Daten extrahieren möchten, um ein Ticker-Objekt zu erstellen. Die Aktie ist Tesla, und ihr Tickersymbol lautet `TSLA`.\n"
   ]
  },
  {
   "cell_type": "code",
   "execution_count": 2,
   "metadata": {},
   "outputs": [],
   "source": [
    "tesla = yf.Ticker('TSLA')"
   ]
  },
  {
   "cell_type": "markdown",
   "metadata": {},
   "source": [
    "Unter Verwendung des Ticker-Objekts und der Funktion `history` extrahiere Aktieninformationen und speichere sie in einem DataFrame mit dem Namen `tesla_data`. Setze den Parameter period auf `max`, damit wir Informationen für den maximal verfügbaren Zeitraum erhalten."
   ]
  },
  {
   "cell_type": "code",
   "execution_count": null,
   "metadata": {},
   "outputs": [],
   "source": [
    "tesla_data = tesla.history(period = \"max\")\n",
    "tesla_data.head()\n"
   ]
  },
  {
   "cell_type": "markdown",
   "metadata": {},
   "source": [
    "Setzen wir  den Index zurück mit der Funktion `reset_index(inplace=True)` auf dem Dataframe `tesla_data`"
   ]
  },
  {
   "cell_type": "code",
   "execution_count": null,
   "metadata": {},
   "outputs": [],
   "source": [
    "tesla_data.reset_index(inplace=True)\n"
   ]
  },
  {
   "cell_type": "code",
   "execution_count": null,
   "metadata": {},
   "outputs": [],
   "source": [
    "# Drucken wir die fünf ersten Zeilen\n",
    "tesla_data.head()"
   ]
  },
  {
   "cell_type": "markdown",
   "metadata": {},
   "source": [
    "## 2. Webscraping verwenden, um Tesla-Umsatzdaten zu extrahieren\n"
   ]
  },
  {
   "cell_type": "code",
   "execution_count": null,
   "metadata": {},
   "outputs": [],
   "source": [
    "rev_data_url = ' https://cf-courses-data.s3.us.cloud-object-storage.appdomain.cloud/IBMDeveloperSkillsNetwork-PY0220EN-SkillsNetwork/labs/project/revenue.htm'\n",
    "rev_data = requests.get(rev_data_url)"
   ]
  },
  {
   "cell_type": "markdown",
   "metadata": {
    "tags": []
   },
   "source": [
    "Analysiere die `HTML-Daten` mit `beautiful_soup`."
   ]
  },
  {
   "cell_type": "markdown",
   "metadata": {},
   "source": [
    "Hier verwenden wir die Bibliothek BeautifulSoup, um die Tabelle mit dem Namen `Tesla Revenue` zu extrahieren\n"
   ]
  },
  {
   "cell_type": "code",
   "execution_count": null,
   "metadata": {},
   "outputs": [],
   "source": [
    "soup = BeautifulSoup(rev_data.content,'html5lib')"
   ]
  },
  {
   "cell_type": "code",
   "execution_count": null,
   "metadata": {},
   "outputs": [],
   "source": [
    "tesla_revenue = pd.DataFrame(columns = [\"Date\",\"Revenue\"])\n",
    "all_tbodies = soup.find_all('tbody')\n",
    "\n",
    "if rev_data.status_code == 200:\n",
    "    for row in all_tbodies[1].find_all(\"tr\"):\n",
    "        col = row.find_all(\"td\")\n",
    "        date = col[0].text\n",
    "        revenue = col[1].text\n",
    "        new_row = pd.DataFrame({\"Date\":[date],\"Revenue\":[revenue]})\n",
    "        tesla_revenue = pd.concat([tesla_revenue,new_row],ignore_index = True)\n",
    "else:\n",
    "    print(\"Error beim Laden des Urls\")\n",
    "        "
   ]
  },
  {
   "cell_type": "code",
   "execution_count": null,
   "metadata": {},
   "outputs": [],
   "source": [
    "# Die fünf ersten Zeilen des Dataframes zeigen\n",
    "tesla_data.head()"
   ]
  },
  {
   "cell_type": "markdown",
   "metadata": {},
   "source": [
    " Das Komma und das Dollarzeichen aus der Spalte `Revenue` entfernen.\n"
   ]
  },
  {
   "cell_type": "code",
   "execution_count": null,
   "metadata": {
    "tags": []
   },
   "outputs": [],
   "source": [
    "tesla_revenue[\"Revenue\"] = tesla_revenue['Revenue'].replace('[\\$,]','',regex=True)\n",
    "tesla_revenue[\"Revenue\"] = pd.to_numeric(tesla_revenue[\"Revenue\"])\n",
    "\n",
    "tesla_revenue.head()\n"
   ]
  },
  {
   "cell_type": "markdown",
   "metadata": {},
   "source": [
    "Nullen und leere Zeichenfolgen in der Spalte `Revenue` entfernen.\n"
   ]
  },
  {
   "cell_type": "code",
   "execution_count": null,
   "metadata": {},
   "outputs": [],
   "source": [
    "tesla_revenue.dropna(inplace=True)\n",
    "\n",
    "tesla_revenue = tesla_revenue[tesla_revenue['Revenue'] != \"\"]"
   ]
  },
  {
   "cell_type": "markdown",
   "metadata": {},
   "source": [
    "Zeige die letzten 5 Zeilen des DataFrames `tesla_revenue` mit der Funktion `tail` an\n"
   ]
  },
  {
   "cell_type": "code",
   "execution_count": null,
   "metadata": {},
   "outputs": [],
   "source": [
    "tesla_revenue.tail()"
   ]
  },
  {
   "cell_type": "markdown",
   "metadata": {},
   "source": [
    "## 3. Yahoo finance Bibliothek verwenden, um Aktiendaten zu extrahieren\n"
   ]
  },
  {
   "cell_type": "markdown",
   "metadata": {},
   "source": [
    "Hier verwenden wir die Funktion `Ticker`, um das Tickersymbol der Aktie einzugeben, von der wir Daten extrahieren möchten. Die Aktie ist `GameStop`, und ihr Tickersymbol lautet `GME`.\n"
   ]
  },
  {
   "cell_type": "code",
   "execution_count": null,
   "metadata": {},
   "outputs": [],
   "source": [
    "gme = yf.Ticker('GME')"
   ]
  },
  {
   "cell_type": "markdown",
   "metadata": {},
   "source": [
    "Unter Verwendung des `Ticker-Objekts` und der Funktion `history` extrahiere Aktieninformationen und speichere sie in einem DataFrame mit dem Namen `gme_data`. Setzen wir den Parameter period auf `max`, damit wir Informationen für den maximal verfügbaren Zeitraum erhalten.\n"
   ]
  },
  {
   "cell_type": "code",
   "execution_count": null,
   "metadata": {},
   "outputs": [],
   "source": [
    "gme_data = gme.history(period='max')\n",
    "gme_data.head()"
   ]
  },
  {
   "cell_type": "markdown",
   "metadata": {},
   "source": [
    "Setzen wir  den Index zurück mit der Funktion `reset_index(inplace=True)` auf dem DataFrame `gme_data`.\n"
   ]
  },
  {
   "cell_type": "code",
   "execution_count": null,
   "metadata": {},
   "outputs": [],
   "source": [
    "gme_data.reset_index(inplace=True)\n",
    "gme_data.head()"
   ]
  },
  {
   "cell_type": "markdown",
   "metadata": {},
   "source": [
    "## 4. Webscraping verwenden, um GME-Umsatzdaten zu extrahieren\n"
   ]
  },
  {
   "cell_type": "code",
   "execution_count": null,
   "metadata": {},
   "outputs": [],
   "source": [
    "gme_url = 'https://cf-courses-data.s3.us.cloud-object-storage.appdomain.cloud/IBMDeveloperSkillsNetwork-PY0220EN-SkillsNetwork/labs/project/stock.html'\n",
    "gme_dataa = requests.get(gme_url)"
   ]
  },
  {
   "cell_type": "markdown",
   "metadata": {},
   "source": [
    "Analysiere die `HTML-Daten` mit `beautiful_soup`."
   ]
  },
  {
   "cell_type": "code",
   "execution_count": null,
   "metadata": {},
   "outputs": [],
   "source": [
    "soup_ = BeautifulSoup(gme_dataa.content,'html5lib')"
   ]
  },
  {
   "cell_type": "markdown",
   "metadata": {},
   "source": [
    "Hier verwenden wir die Bibliothek BeautifulSoup, um die Tabelle mit dem Namen `gme Revenue` zu extrahieren\n"
   ]
  },
  {
   "cell_type": "code",
   "execution_count": null,
   "metadata": {},
   "outputs": [],
   "source": [
    "gme_revenue = pd.DataFrame(columns = [\"Date\",\"Revenue\"])\n",
    "all_tbodies = soup_.find_all('tbody')\n",
    "for row in all_tbodies[1].find_all('tr'):\n",
    "    col_ = row.find_all('td')\n",
    "    date_ = col_[0].text\n",
    "    revenue_ = col_[1].text\n",
    "    new_row_ = pd.DataFrame({\"Date\":[date_],\"Revenue\":[revenue_]})\n",
    "    gme_revenue = pd.concat([gme_revenue,new_row_],ignore_index = True)\n",
    "    gme_revenue = gme_revenue.replace('[/$,]','',regex=True)\n",
    "    gme_revenue[\"Revenue\"] = pd.to_numeric(gme_revenue[\"Revenue\"])\n",
    "gme_revenue.head()\n",
    "    "
   ]
  },
  {
   "cell_type": "markdown",
   "metadata": {
    "tags": []
   },
   "source": [
    "Nullen und leere Zeichenfolgen in der Spalte `Revenue` entfernen und letzte Zeilen des Dataframes zeigen"
   ]
  },
  {
   "cell_type": "code",
   "execution_count": null,
   "metadata": {},
   "outputs": [],
   "source": [
    "gme_revenue.dropna()\n",
    "gme_revenue = gme_revenue[gme_revenue[\"Revenue\"] !='']\n",
    "gme_revenue.tail()"
   ]
  },
  {
   "cell_type": "markdown",
   "metadata": {},
   "source": [
    "## 5. Den Tesla-Aktiengraphen plotten\n"
   ]
  },
  {
   "cell_type": "markdown",
   "metadata": {},
   "source": [
    "## Graphing Function definieren\n"
   ]
  },
  {
   "cell_type": "markdown",
   "metadata": {},
   "source": [
    "In diesem Abschnitt definieren wir die Funktion make_graph.  Sie erwartet ein DataFrame mit Aktiendaten (das DataFrame muss die Spalten \"Date\" und \"Close\" enthalten), ein DataFrame mit Umsatzdaten (das DataFrame muss die Spalten \"Date\" und \"Revenue\" enthalten) und den Namen der Aktie."
   ]
  },
  {
   "cell_type": "code",
   "execution_count": null,
   "metadata": {},
   "outputs": [],
   "source": [
    "def make_graph(stock_data, revenue_data, stock):\n",
    "    fig = make_subplots(rows=2, cols=1, shared_xaxes=True, subplot_titles=(\"Historischer Aktienkurs\", \"Historischer Umsatz\"), vertical_spacing = .3)\n",
    "    stock_data_specific = stock_data[stock_data.Date <= '2021--06-14']\n",
    "    revenue_data_specific = revenue_data[revenue_data.Date <= '2021-04-30']\n",
    "    fig.add_trace(go.Scatter(x=pd.to_datetime(stock_data_specific.Date), y=stock_data_specific.Close.astype(\"float\"), name=\"Share Price\"), row=1, col=1)\n",
    "    fig.add_trace(go.Scatter(x=pd.to_datetime(revenue_data_specific.Date), y=revenue_data_specific.Revenue.astype(\"float\"), name=\"Revenue\"), row=2, col=1)\n",
    "    fig.update_xaxes(title_text=\"Datum\", row=1, col=1)\n",
    "    fig.update_xaxes(title_text=\"Datum\", row=2, col=1)\n",
    "    fig.update_yaxes(title_text=\"Preise in ($US)\", row=1, col=1)\n",
    "    fig.update_yaxes(title_text=\"Umsatz in ($US Millions)\", row=2, col=1)\n",
    "    fig.update_layout(showlegend=False,\n",
    "    height=900,\n",
    "    title=stock,\n",
    "    xaxis_rangeslider_visible=True)\n",
    "    fig.show()"
   ]
  },
  {
   "cell_type": "markdown",
   "metadata": {},
   "source": [
    "Verwenden wir die Funktion `make_graph()`, um die Aktiendaten von Tesla zu grafieren."
   ]
  },
  {
   "cell_type": "code",
   "execution_count": null,
   "metadata": {},
   "outputs": [],
   "source": [
    "make_graph(tesla_data, tesla_revenue,stock =\"Tesla\")"
   ]
  },
  {
   "cell_type": "markdown",
   "metadata": {},
   "source": [
    "## 5. Den GameStop-Aktiengraphen plotten\n"
   ]
  },
  {
   "cell_type": "markdown",
   "metadata": {},
   "source": [
    "Verwenden wir die Funktion `make_graph()`, um die Aktiendaten von GameStop zu grafieren."
   ]
  },
  {
   "cell_type": "code",
   "execution_count": null,
   "metadata": {},
   "outputs": [],
   "source": [
    "make_graph(gme_data, gme_revenue,stock =\"GameStop\")"
   ]
  },
  {
   "cell_type": "markdown",
   "metadata": {},
   "source": [
    "### Autor:\n",
    "Solaiman Karroumi"
   ]
  }
 ],
 "metadata": {
  "kernelspec": {
   "display_name": "Python 3 (ipykernel)",
   "language": "python",
   "name": "python3"
  },
  "language_info": {
   "codemirror_mode": {
    "name": "ipython",
    "version": 3
   },
   "file_extension": ".py",
   "mimetype": "text/x-python",
   "name": "python",
   "nbconvert_exporter": "python",
   "pygments_lexer": "ipython3",
   "version": "3.11.7"
  }
 },
 "nbformat": 4,
 "nbformat_minor": 4
}
